{
 "cells": [
  {
   "cell_type": "code",
   "execution_count": 4,
   "id": "5d3c3ba5",
   "metadata": {},
   "outputs": [],
   "source": [
    "from sklearn.cluster import KMeans\n",
    "import numpy as np\n",
    "import pandas as pd\n",
    "import gzip\n",
    "from scipy.io import mmread\n",
    "import matplotlib.pyplot as plt"
   ]
  },
  {
   "cell_type": "code",
   "execution_count": 5,
   "id": "f0085884",
   "metadata": {},
   "outputs": [],
   "source": [
    "datasets = ['humanBloodCells', 'humanKidneyCells', 'humanSkinCells']\n",
    "dataset_index = 0\n",
    "with gzip.open('./data/' + datasets[dataset_index] + '/matrix.mtx.gz', 'rt') as f:\n",
    "  matrix = np.transpose(np.array(mmread(f).todense()))\n",
    "  features = pd.read_csv('./data/' + datasets[dataset_index] + '/features.tsv.gz', sep='\\t')\n",
    "  barcodes = pd.read_csv('./data/' + datasets[dataset_index] + '/barcodes.tsv.gz', sep='\\t')"
   ]
  },
  {
   "cell_type": "code",
   "execution_count": 6,
   "id": "62d188e6",
   "metadata": {},
   "outputs": [
    {
     "name": "stdout",
     "output_type": "stream",
     "text": [
      "Number of non-zero entries: 11598877\n",
      "Matrix shape: (4661, 38616)\n",
      "Sparsity: 6.444208067267334%\n"
     ]
    }
   ],
   "source": [
    "num_nonzero = np.count_nonzero(matrix)\n",
    "sparsity = np.count_nonzero(matrix) / matrix.size\n",
    "print('Number of non-zero entries:', num_nonzero)\n",
    "print('Matrix shape:', matrix.shape)\n",
    "print('Sparsity:', f'{sparsity * 100}%')"
   ]
  },
  {
   "cell_type": "code",
   "execution_count": 7,
   "id": "9231ec4f",
   "metadata": {},
   "outputs": [
    {
     "data": {
      "text/plain": [
       "(array([1.15895e+07, 7.44100e+03, 1.01100e+03, 3.95000e+02, 2.03000e+02,\n",
       "        9.60000e+01, 6.00000e+01, 3.90000e+01, 2.50000e+01, 1.40000e+01,\n",
       "        9.00000e+00, 8.00000e+00, 8.00000e+00, 6.00000e+00, 4.00000e+00,\n",
       "        2.00000e+00, 3.00000e+00, 2.00000e+00, 2.00000e+00, 2.00000e+00,\n",
       "        3.00000e+00, 2.00000e+00, 1.00000e+00, 3.00000e+00, 3.00000e+00,\n",
       "        3.00000e+00, 1.00000e+00, 1.00000e+00, 2.00000e+00, 3.00000e+00,\n",
       "        0.00000e+00, 0.00000e+00, 2.00000e+00, 3.00000e+00, 0.00000e+00,\n",
       "        0.00000e+00, 1.00000e+00, 1.00000e+00, 2.00000e+00, 0.00000e+00,\n",
       "        2.00000e+00, 2.00000e+00, 0.00000e+00, 1.00000e+00, 2.00000e+00,\n",
       "        0.00000e+00, 1.00000e+00, 1.00000e+00, 0.00000e+00, 1.00000e+00,\n",
       "        0.00000e+00, 0.00000e+00, 0.00000e+00, 1.00000e+00, 0.00000e+00,\n",
       "        0.00000e+00, 0.00000e+00, 0.00000e+00, 0.00000e+00, 0.00000e+00,\n",
       "        0.00000e+00, 0.00000e+00, 0.00000e+00, 0.00000e+00, 0.00000e+00,\n",
       "        0.00000e+00, 1.00000e+00, 0.00000e+00, 1.00000e+00, 0.00000e+00,\n",
       "        0.00000e+00, 1.00000e+00, 1.00000e+00, 0.00000e+00, 0.00000e+00,\n",
       "        0.00000e+00, 0.00000e+00, 0.00000e+00, 0.00000e+00, 0.00000e+00,\n",
       "        0.00000e+00, 0.00000e+00, 0.00000e+00, 0.00000e+00, 0.00000e+00,\n",
       "        0.00000e+00, 0.00000e+00, 0.00000e+00, 0.00000e+00, 0.00000e+00,\n",
       "        0.00000e+00, 0.00000e+00, 0.00000e+00, 0.00000e+00, 0.00000e+00,\n",
       "        0.00000e+00, 0.00000e+00, 0.00000e+00, 0.00000e+00, 1.00000e+00]),\n",
       " array([1.000000e+00, 1.602400e+02, 3.194800e+02, 4.787200e+02,\n",
       "        6.379600e+02, 7.972000e+02, 9.564400e+02, 1.115680e+03,\n",
       "        1.274920e+03, 1.434160e+03, 1.593400e+03, 1.752640e+03,\n",
       "        1.911880e+03, 2.071120e+03, 2.230360e+03, 2.389600e+03,\n",
       "        2.548840e+03, 2.708080e+03, 2.867320e+03, 3.026560e+03,\n",
       "        3.185800e+03, 3.345040e+03, 3.504280e+03, 3.663520e+03,\n",
       "        3.822760e+03, 3.982000e+03, 4.141240e+03, 4.300480e+03,\n",
       "        4.459720e+03, 4.618960e+03, 4.778200e+03, 4.937440e+03,\n",
       "        5.096680e+03, 5.255920e+03, 5.415160e+03, 5.574400e+03,\n",
       "        5.733640e+03, 5.892880e+03, 6.052120e+03, 6.211360e+03,\n",
       "        6.370600e+03, 6.529840e+03, 6.689080e+03, 6.848320e+03,\n",
       "        7.007560e+03, 7.166800e+03, 7.326040e+03, 7.485280e+03,\n",
       "        7.644520e+03, 7.803760e+03, 7.963000e+03, 8.122240e+03,\n",
       "        8.281480e+03, 8.440720e+03, 8.599960e+03, 8.759200e+03,\n",
       "        8.918440e+03, 9.077680e+03, 9.236920e+03, 9.396160e+03,\n",
       "        9.555400e+03, 9.714640e+03, 9.873880e+03, 1.003312e+04,\n",
       "        1.019236e+04, 1.035160e+04, 1.051084e+04, 1.067008e+04,\n",
       "        1.082932e+04, 1.098856e+04, 1.114780e+04, 1.130704e+04,\n",
       "        1.146628e+04, 1.162552e+04, 1.178476e+04, 1.194400e+04,\n",
       "        1.210324e+04, 1.226248e+04, 1.242172e+04, 1.258096e+04,\n",
       "        1.274020e+04, 1.289944e+04, 1.305868e+04, 1.321792e+04,\n",
       "        1.337716e+04, 1.353640e+04, 1.369564e+04, 1.385488e+04,\n",
       "        1.401412e+04, 1.417336e+04, 1.433260e+04, 1.449184e+04,\n",
       "        1.465108e+04, 1.481032e+04, 1.496956e+04, 1.512880e+04,\n",
       "        1.528804e+04, 1.544728e+04, 1.560652e+04, 1.576576e+04,\n",
       "        1.592500e+04]),\n",
       " <BarContainer object of 100 artists>)"
      ]
     },
     "execution_count": 7,
     "metadata": {},
     "output_type": "execute_result"
    },
    {
     "data": {
      "image/png": "[encoded data removed]",
      "text/plain": [
       "<Figure size 640x480 with 1 Axes>"
      ]
     },
     "metadata": {},
     "output_type": "display_data"
    }
   ],
   "source": [
    "non_zero_vals = [i for i in matrix.reshape(matrix.size).tolist() if i != 0]\n",
    "plt.hist(non_zero_vals, bins=100, log=True)"
   ]
  },
  {
   "cell_type": "code",
   "execution_count": 8,
   "id": "e9de7919",
   "metadata": {},
   "outputs": [],
   "source": [
    "class Bitvector:\n",
    "  def __init__(self):\n",
    "    self.bits = bytearray()\n",
    "    self.length = 0\n",
    "\n",
    "  def append_bit(self, bit):\n",
    "    if self.length % 8 == 0:\n",
    "      self.bits.append(bit << 7)\n",
    "    else:\n",
    "      self.bits[-1] |= bit << (7 - self.length % 8)\n",
    "    self.length += 1\n",
    "\n",
    "  def append(self, val, length):\n",
    "    for i in range(length - 1, -1, -1):\n",
    "      self.append_bit((val >> i) & 1)\n",
    "\n",
    "  def get(self, index):\n",
    "    return self.bits[index // 8] >> (7 - index % 8) & 1\n",
    "\n",
    "  def read(self, offset, length):\n",
    "    num = 0\n",
    "    for i in range(length):\n",
    "      num <<= 1\n",
    "      num += self.get(offset + i)\n",
    "    return num\n",
    "\n",
    "  def __len__(self):\n",
    "    return self.length"
   ]
  },
  {
   "cell_type": "code",
   "execution_count": 9,
   "id": "b4414bef",
   "metadata": {},
   "outputs": [],
   "source": [
    "SIZE_BITS = 32\n",
    "METADATA_BITS = 8"
   ]
  },
  {
   "cell_type": "code",
   "execution_count": 10,
   "id": "d6dfb38e",
   "metadata": {},
   "outputs": [
    {
     "data": {
      "text/plain": [
       "(4661, 38616)"
      ]
     },
     "execution_count": 10,
     "metadata": {},
     "output_type": "execute_result"
    }
   ],
   "source": [
    "matrix.shape"
   ]
  },
  {
   "cell_type": "code",
   "execution_count": 21,
   "id": "7ebced93",
   "metadata": {},
   "outputs": [],
   "source": [
    "def kmeans_structures(matrix, n_clusters):\n",
    "  kmeans = KMeans(n_clusters=n_clusters, random_state=0).fit(matrix)\n",
    "\n",
    "  # Identify cluster representatives\n",
    "  min_dists = np.zeros(n_clusters)\n",
    "  reps = np.array([-1 for i in range(n_clusters)])\n",
    "  for i in range(matrix.shape[0]):\n",
    "    curr_dist = np.linalg.norm(matrix[i] - kmeans.cluster_centers_[kmeans.labels_[i]])\n",
    "    if reps[kmeans.labels_[i]] == -1 or curr_dist < min_dists[kmeans.labels_[i]]:\n",
    "      min_dists[kmeans.labels_[i]] = curr_dist\n",
    "      reps[kmeans.labels_[i]] = i\n",
    "\n",
    "  # Get delta matrix\n",
    "  delta_matrix = np.copy(matrix)\n",
    "  for i in range(matrix.shape[0]):\n",
    "    if reps[kmeans.labels_[i]] == i:\n",
    "      continue\n",
    "    delta_matrix[i] = matrix[i] - matrix[reps[kmeans.labels_[i]]]\n",
    "\n",
    "  return reps, kmeans.labels_, delta_matrix\n",
    "\n",
    "def kmeans_compression(kmeans_data, n_clusters, output_filename):\n",
    "  reps, labels, delta_matrix = kmeans_data\n",
    "  bitvector = Bitvector()\n",
    "\n",
    "  # Compress metadata values\n",
    "  bitvector.append(delta_matrix.shape[0], SIZE_BITS)\n",
    "  bitvector.append(delta_matrix.shape[1], SIZE_BITS)\n",
    "  bitvector.append(n_clusters, METADATA_BITS)\n",
    "\n",
    "  bits_per_m_index = delta_matrix.shape[0].bit_length()\n",
    "  bits_per_n_index = delta_matrix.shape[1].bit_length()\n",
    "  bits_per_cluster_index = n_clusters.bit_length()\n",
    "\n",
    "  # Compress cluster membership information\n",
    "  for rep in reps:\n",
    "    bitvector.append(rep, bits_per_m_index)\n",
    "\n",
    "  for label in labels:\n",
    "    bitvector.append(label, bits_per_cluster_index)\n",
    "\n",
    "  # Compress cluster representatives\n",
    "  for i in range(n_clusters):\n",
    "    row = delta_matrix[reps[i]]\n",
    "    num_nonzero = np.count_nonzero(row)\n",
    "    bits_per_val = int(np.max(row)).bit_length()\n",
    "    bitvector.append(num_nonzero, bits_per_n_index)\n",
    "    bitvector.append(bits_per_val, METADATA_BITS)\n",
    "    for j in range(row.shape[0]):\n",
    "      if row[j] != 0:\n",
    "        bitvector.append(j, bits_per_n_index)\n",
    "        bitvector.append(row[j], bits_per_val)\n",
    "\n",
    "  # Compress other vectors\n",
    "  for i in range(delta_matrix.shape[0]):\n",
    "    if reps[labels[i]] == i:\n",
    "      continue\n",
    "    delta = delta_matrix[i]\n",
    "    num_nonzero = np.count_nonzero(delta)\n",
    "    bits_per_val = int(np.max(np.abs(delta))).bit_length()\n",
    "    bitvector.append(num_nonzero, bits_per_n_index)\n",
    "    bitvector.append(bits_per_val, METADATA_BITS)\n",
    "    for j in range(delta.shape[0]):\n",
    "      if delta[j] != 0:\n",
    "        bitvector.append_bit(1 if delta[j] < 0 else 0)\n",
    "        bitvector.append(j, bits_per_n_index)\n",
    "        bitvector.append(abs(delta[j]), bits_per_val)\n",
    "    \n",
    "  with open(output_filename, 'wb') as f:\n",
    "    f.write(bitvector.bits)\n",
    "\n",
    "def kmeans_decompression(input_filename):\n",
    "  bitvector = Bitvector()\n",
    "  with open(input_filename, 'rb') as f:\n",
    "    bitvector.bits = f.read()\n",
    "    bitvector.length = len(bitvector.bits) * 8\n",
    "\n",
    "  # Decompress metadata\n",
    "  curr_index = 0\n",
    "  m = bitvector.read(curr_index, SIZE_BITS)\n",
    "  curr_index += SIZE_BITS\n",
    "  n = bitvector.read(curr_index, SIZE_BITS)\n",
    "  curr_index += SIZE_BITS\n",
    "  n_clusters = bitvector.read(curr_index, METADATA_BITS)\n",
    "  curr_index += METADATA_BITS\n",
    "\n",
    "  bits_per_m_index = m.bit_length()\n",
    "  bits_per_n_index = n.bit_length()\n",
    "  bits_per_cluster_index = n_clusters.bit_length()\n",
    "  \n",
    "  # Decompress cluster membership information\n",
    "  reps = []\n",
    "  for i in range(n_clusters):\n",
    "    reps.append(bitvector.read(curr_index, bits_per_m_index))\n",
    "    curr_index += bits_per_m_index\n",
    "\n",
    "  labels = []\n",
    "  for i in range(m):\n",
    "    labels.append(bitvector.read(curr_index, bits_per_cluster_index))\n",
    "    curr_index += bits_per_cluster_index\n",
    "\n",
    "  # Decompress cluster representatives\n",
    "  matrix = np.zeros((m, n))\n",
    "  for i in range(n_clusters):\n",
    "    num_nonzero = bitvector.read(curr_index, bits_per_n_index)\n",
    "    curr_index += bits_per_n_index\n",
    "    bits_per_val = bitvector.read(curr_index, METADATA_BITS)\n",
    "    curr_index += METADATA_BITS\n",
    "    for j in range(num_nonzero):\n",
    "      index = bitvector.read(curr_index, bits_per_n_index)\n",
    "      curr_index += bits_per_n_index\n",
    "      val = bitvector.read(curr_index, bits_per_val)\n",
    "      curr_index += bits_per_val\n",
    "      matrix[reps[i]][index] = val\n",
    "  \n",
    "  # Decompress other vectors\n",
    "  for i in range(m):\n",
    "    if reps[labels[i]] == i:\n",
    "      continue\n",
    "    num_nonzero = bitvector.read(curr_index, bits_per_n_index)\n",
    "    curr_index += bits_per_n_index\n",
    "    bits_per_val = bitvector.read(curr_index, METADATA_BITS)\n",
    "    curr_index += METADATA_BITS\n",
    "    for j in range(num_nonzero):\n",
    "      sign = bitvector.read(curr_index, 1)\n",
    "      curr_index += 1\n",
    "      index = bitvector.read(curr_index, bits_per_n_index)\n",
    "      curr_index += bits_per_n_index\n",
    "      val = bitvector.read(curr_index, bits_per_val)\n",
    "      curr_index += bits_per_val\n",
    "      matrix[i][index] = val if sign == 0 else -val\n",
    "    matrix[i] += matrix[reps[labels[i]]]\n",
    "\n",
    "  return matrix"
   ]
  },
  {
   "cell_type": "code",
   "execution_count": 12,
   "id": "84c15b34",
   "metadata": {},
   "outputs": [],
   "source": [
    "reps, labels, delta_matrix = kmeans_structures(matrix, 10)"
   ]
  },
  {
   "cell_type": "code",
   "execution_count": 19,
   "id": "dd216863",
   "metadata": {},
   "outputs": [],
   "source": [
    "kmeans_compression((reps, labels, delta_matrix), 10, 'test.bin')"
   ]
  },
  {
   "cell_type": "code",
   "execution_count": 22,
   "id": "88e0132a",
   "metadata": {},
   "outputs": [],
   "source": [
    "decompressed = kmeans_decompression('test.bin')"
   ]
  },
  {
   "cell_type": "code",
   "execution_count": 23,
   "id": "2e904a9a",
   "metadata": {},
   "outputs": [
    {
     "data": {
      "text/plain": [
       "True"
      ]
     },
     "execution_count": 23,
     "metadata": {},
     "output_type": "execute_result"
    }
   ],
   "source": [
    "np.array_equal(matrix, decompressed)"
   ]
  },
  {
   "cell_type": "code",
   "execution_count": null,
   "id": "3ec8a0ec",
   "metadata": {},
   "outputs": [
    {
     "name": "stdout",
     "output_type": "stream",
     "text": [
      "[[ 0  0  1]\n",
      " [ 0 15  0]\n",
      " [ 1  0  0]\n",
      " [ 1  0  0]\n",
      " [ 1  1  1]]\n",
      "[[ 0.  0.  1.]\n",
      " [ 0. 15.  0.]\n",
      " [ 1.  0.  0.]\n",
      " [ 1.  0.  0.]\n",
      " [ 1.  1.  1.]]\n"
     ]
    }
   ],
   "source": [
    "print(matrix)\n",
    "print(decompressed)"
   ]
  },
  {
   "cell_type": "code",
   "execution_count": null,
   "id": "a141b459",
   "metadata": {},
   "outputs": [],
   "source": [
    "k_vals = [10, 25, 50, 75, 100]\n",
    "for k in k_vals:\n",
    "  kmeans_compression(matrix, k, f'')"
   ]
  }
 ],
 "metadata": {
  "kernelspec": {
   "display_name": "sklearn-env",
   "language": "python",
   "name": "python3"
  },
  "language_info": {
   "codemirror_mode": {
    "name": "ipython",
    "version": 3
   },
   "file_extension": ".py",
   "mimetype": "text/x-python",
   "name": "python",
   "nbconvert_exporter": "python",
   "pygments_lexer": "ipython3",
   "version": "3.11.0"
  }
 },
 "nbformat": 4,
 "nbformat_minor": 5
}
