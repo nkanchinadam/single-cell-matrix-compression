{
 "cells": [
  {
   "cell_type": "code",
   "execution_count": 1,
   "id": "5d3c3ba5",
   "metadata": {},
   "outputs": [],
   "source": [
    "from sklearn.cluster import KMeans\n",
    "import numpy as np\n",
    "import pandas as pd\n",
    "import gzip\n",
    "from scipy.io import mmread\n",
    "import matplotlib.pyplot as plt\n",
    "import huffman\n",
    "from bitstring import BitStream"
   ]
  },
  {
   "cell_type": "code",
   "execution_count": 2,
   "id": "f0085884",
   "metadata": {},
   "outputs": [],
   "source": [
    "datasets = ['humanBloodCells', 'humanKidneyCells', 'humanSkinCells']\n",
    "dataset_index = 0\n",
    "with gzip.open('./data/' + datasets[dataset_index] + '/matrix.mtx.gz', 'rt') as f:\n",
    "  matrix = np.array(mmread(f).todense())\n",
    "  features = pd.read_csv('./data/' + datasets[dataset_index] + '/features.tsv.gz', sep='\\t')\n",
    "  barcodes = pd.read_csv('./data/' + datasets[dataset_index] + '/barcodes.tsv.gz', sep='\\t')"
   ]
  },
  {
   "cell_type": "code",
   "execution_count": 3,
   "id": "62d188e6",
   "metadata": {},
   "outputs": [
    {
     "name": "stdout",
     "output_type": "stream",
     "text": [
      "Number of non-zero entries: 11598877\n",
      "Matrix shape: (38616, 4661)\n",
      "Sparsity: 6.444208067267334%\n"
     ]
    }
   ],
   "source": [
    "num_nonzero = np.count_nonzero(matrix)\n",
    "sparsity = np.count_nonzero(matrix) / matrix.size\n",
    "print('Number of non-zero entries:', num_nonzero)\n",
    "print('Matrix shape:', matrix.shape)\n",
    "print('Sparsity:', f'{sparsity * 100}%')"
   ]
  },
  {
   "cell_type": "code",
   "execution_count": null,
   "id": "9dd3c29c",
   "metadata": {},
   "outputs": [],
   "source": [
    "non_zero_vals = [i for i in matrix.reshape(matrix.size) if i != 0]"
   ]
  },
  {
   "cell_type": "code",
   "execution_count": null,
   "id": "9231ec4f",
   "metadata": {},
   "outputs": [
    {
     "data": {
      "text/plain": [
       "(array([1.15895e+07, 7.44100e+03, 1.01100e+03, 3.95000e+02, 2.03000e+02,\n",
       "        9.60000e+01, 6.00000e+01, 3.90000e+01, 2.50000e+01, 1.40000e+01,\n",
       "        9.00000e+00, 8.00000e+00, 8.00000e+00, 6.00000e+00, 4.00000e+00,\n",
       "        2.00000e+00, 3.00000e+00, 2.00000e+00, 2.00000e+00, 2.00000e+00,\n",
       "        3.00000e+00, 2.00000e+00, 1.00000e+00, 3.00000e+00, 3.00000e+00,\n",
       "        3.00000e+00, 1.00000e+00, 1.00000e+00, 2.00000e+00, 3.00000e+00,\n",
       "        0.00000e+00, 0.00000e+00, 2.00000e+00, 3.00000e+00, 0.00000e+00,\n",
       "        0.00000e+00, 1.00000e+00, 1.00000e+00, 2.00000e+00, 0.00000e+00,\n",
       "        2.00000e+00, 2.00000e+00, 0.00000e+00, 1.00000e+00, 2.00000e+00,\n",
       "        0.00000e+00, 1.00000e+00, 1.00000e+00, 0.00000e+00, 1.00000e+00,\n",
       "        0.00000e+00, 0.00000e+00, 0.00000e+00, 1.00000e+00, 0.00000e+00,\n",
       "        0.00000e+00, 0.00000e+00, 0.00000e+00, 0.00000e+00, 0.00000e+00,\n",
       "        0.00000e+00, 0.00000e+00, 0.00000e+00, 0.00000e+00, 0.00000e+00,\n",
       "        0.00000e+00, 1.00000e+00, 0.00000e+00, 1.00000e+00, 0.00000e+00,\n",
       "        0.00000e+00, 1.00000e+00, 1.00000e+00, 0.00000e+00, 0.00000e+00,\n",
       "        0.00000e+00, 0.00000e+00, 0.00000e+00, 0.00000e+00, 0.00000e+00,\n",
       "        0.00000e+00, 0.00000e+00, 0.00000e+00, 0.00000e+00, 0.00000e+00,\n",
       "        0.00000e+00, 0.00000e+00, 0.00000e+00, 0.00000e+00, 0.00000e+00,\n",
       "        0.00000e+00, 0.00000e+00, 0.00000e+00, 0.00000e+00, 0.00000e+00,\n",
       "        0.00000e+00, 0.00000e+00, 0.00000e+00, 0.00000e+00, 1.00000e+00]),\n",
       " array([1.000000e+00, 1.602400e+02, 3.194800e+02, 4.787200e+02,\n",
       "        6.379600e+02, 7.972000e+02, 9.564400e+02, 1.115680e+03,\n",
       "        1.274920e+03, 1.434160e+03, 1.593400e+03, 1.752640e+03,\n",
       "        1.911880e+03, 2.071120e+03, 2.230360e+03, 2.389600e+03,\n",
       "        2.548840e+03, 2.708080e+03, 2.867320e+03, 3.026560e+03,\n",
       "        3.185800e+03, 3.345040e+03, 3.504280e+03, 3.663520e+03,\n",
       "        3.822760e+03, 3.982000e+03, 4.141240e+03, 4.300480e+03,\n",
       "        4.459720e+03, 4.618960e+03, 4.778200e+03, 4.937440e+03,\n",
       "        5.096680e+03, 5.255920e+03, 5.415160e+03, 5.574400e+03,\n",
       "        5.733640e+03, 5.892880e+03, 6.052120e+03, 6.211360e+03,\n",
       "        6.370600e+03, 6.529840e+03, 6.689080e+03, 6.848320e+03,\n",
       "        7.007560e+03, 7.166800e+03, 7.326040e+03, 7.485280e+03,\n",
       "        7.644520e+03, 7.803760e+03, 7.963000e+03, 8.122240e+03,\n",
       "        8.281480e+03, 8.440720e+03, 8.599960e+03, 8.759200e+03,\n",
       "        8.918440e+03, 9.077680e+03, 9.236920e+03, 9.396160e+03,\n",
       "        9.555400e+03, 9.714640e+03, 9.873880e+03, 1.003312e+04,\n",
       "        1.019236e+04, 1.035160e+04, 1.051084e+04, 1.067008e+04,\n",
       "        1.082932e+04, 1.098856e+04, 1.114780e+04, 1.130704e+04,\n",
       "        1.146628e+04, 1.162552e+04, 1.178476e+04, 1.194400e+04,\n",
       "        1.210324e+04, 1.226248e+04, 1.242172e+04, 1.258096e+04,\n",
       "        1.274020e+04, 1.289944e+04, 1.305868e+04, 1.321792e+04,\n",
       "        1.337716e+04, 1.353640e+04, 1.369564e+04, 1.385488e+04,\n",
       "        1.401412e+04, 1.417336e+04, 1.433260e+04, 1.449184e+04,\n",
       "        1.465108e+04, 1.481032e+04, 1.496956e+04, 1.512880e+04,\n",
       "        1.528804e+04, 1.544728e+04, 1.560652e+04, 1.576576e+04,\n",
       "        1.592500e+04]),\n",
       " <BarContainer object of 100 artists>)"
      ]
     },
     "execution_count": 5,
     "metadata": {},
     "output_type": "execute_result"
    },
    {
     "data": {
      "image/png": "[encoded data removed]",
      "text/plain": [
       "<Figure size 640x480 with 1 Axes>"
      ]
     },
     "metadata": {},
     "output_type": "display_data"
    }
   ],
   "source": [
    "plt.hist(non_zero_vals, bins=100, log=True)"
   ]
  },
  {
   "cell_type": "code",
   "execution_count": 6,
   "id": "5912feaa",
   "metadata": {},
   "outputs": [],
   "source": [
    "def kmeans_structures(matrix, n_clusters):\n",
    "  kmeans = KMeans(n_clusters=n_clusters, random_state=0).fit(matrix)\n",
    "\n",
    "  # Identify cluster representatives\n",
    "  min_dists = np.zeros(n_clusters)\n",
    "  reps = np.array([-1 for i in range(n_clusters)])\n",
    "  for i in range(matrix.shape[0]):\n",
    "    curr_dist = np.linalg.norm(matrix[i] - kmeans.cluster_centers_[kmeans.labels_[i]])\n",
    "    if reps[kmeans.labels_[i]] == -1 or curr_dist < min_dists[kmeans.labels_[i]]:\n",
    "      min_dists[kmeans.labels_[i]] = curr_dist\n",
    "      reps[kmeans.labels_[i]] = i\n",
    "\n",
    "  # Get delta matrix\n",
    "  delta_matrix = np.copy(matrix)\n",
    "  for i in range(matrix.shape[0]):\n",
    "    if reps[kmeans.labels_[i]] == i:\n",
    "      continue\n",
    "    delta_matrix[i] -= matrix[reps[kmeans.labels_[i]]]\n",
    "\n",
    "  return reps, kmeans.labels_, delta_matrix"
   ]
  },
  {
   "cell_type": "code",
   "execution_count": 7,
   "id": "15cc0a54",
   "metadata": {},
   "outputs": [],
   "source": [
    "def encode_huffman_tree(root, bits_per_val, bitarray):\n",
    "  if type(root) == huffman.Leaf:\n",
    "    bitarray.append('0b1')\n",
    "    bitarray.append('0b1' if root.symbol < 0 else '0b0')\n",
    "    bitarray.append(f'0b{bin(abs(root.symbol))[2:].zfill(bits_per_val)}')\n",
    "    return\n",
    "  bitarray.append('0b0')\n",
    "  encode_huffman_tree(root.left, bits_per_val, bitarray)\n",
    "  encode_huffman_tree(root.right, bits_per_val, bitarray)"
   ]
  },
  {
   "cell_type": "code",
   "execution_count": 8,
   "id": "5ff83c13",
   "metadata": {},
   "outputs": [],
   "source": [
    "def decode_huffman_tree(bitstream, bits_per_val):\n",
    "  if bitstream.read(1) == '0b1':\n",
    "    mult = -1 if bitstream.read(1) == '0b1' else 1\n",
    "    val = mult * int(bitstream.read(f'bin{bits_per_val}'), 2)\n",
    "    return huffman.Leaf(val, 0)\n",
    "  left = decode_huffman_tree(bitstream, bits_per_val)\n",
    "  right = decode_huffman_tree(bitstream, bits_per_val)\n",
    "  return huffman.Node(left, right)"
   ]
  },
  {
   "cell_type": "code",
   "execution_count": 9,
   "id": "24b4769f",
   "metadata": {},
   "outputs": [],
   "source": [
    "def read_huffman_tree(root, bitstream):\n",
    "  if type(root) == huffman.Leaf:\n",
    "    return root.symbol\n",
    "  elif bitstream.read(1) == '0b0':\n",
    "    return read_huffman_tree(root.left, bitstream)\n",
    "  return read_huffman_tree(root.right, bitstream)"
   ]
  },
  {
   "cell_type": "code",
   "execution_count": null,
   "id": "8374c3cf",
   "metadata": {},
   "outputs": [
    {
     "name": "stdout",
     "output_type": "stream",
     "text": [
      "rle length 333655929\n"
     ]
    }
   ],
   "source": [
    "def encode_rle(bitstream):\n",
    "  with open('./results/humanBloodCells_50.bin', 'rb') as f:\n",
    "    bitstream = BitStream(f.read())\n",
    "\n",
    "  run_lengths = {}\n",
    "  curr_bit = -1\n",
    "  run_len = 0\n",
    "  rle_bitstream = BitStream()\n",
    "  for i in range(bitstream.length):\n",
    "    bit = 1 if bitstream.read(1) == '0b1' else 0\n",
    "    if bit == curr_bit:\n",
    "      run_len += 1\n",
    "    else:\n",
    "      if curr_bit == -1:\n",
    "        rle_bitstream.append(f'0b{bit}')\n",
    "      else:\n",
    "        rle_bitstream.append(f'0b{bin(run_len)[2:].zfill(run_len.bit_length() * 2 - 1)}')\n",
    "      curr_bit = bit\n",
    "      if run_len not in run_lengths:\n",
    "        run_lengths[run_len] = 0\n",
    "      run_lengths[run_len] += 1\n",
    "      run_len = 1\n",
    "  del run_lengths[0]\n",
    "  return rle_bitstream, run_lengths\n",
    "rle_bitstream, run_lengths = encode_rle(None)\n",
    "print('rle length', rle_bitstream.length)"
   ]
  },
  {
   "cell_type": "code",
   "execution_count": 17,
   "id": "d27c0417",
   "metadata": {},
   "outputs": [
    {
     "data": {
      "text/plain": [
       "<BarContainer object of 22 artists>"
      ]
     },
     "execution_count": 17,
     "metadata": {},
     "output_type": "execute_result"
    },
    {
     "data": {
      "image/png": "[encoded data removed]",
      "text/plain": [
       "<Figure size 640x480 with 1 Axes>"
      ]
     },
     "metadata": {},
     "output_type": "display_data"
    }
   ],
   "source": [
    "lens = []\n",
    "freqs = []\n",
    "for k, v in run_lengths.items():\n",
    "  lens.append(k)\n",
    "  freqs.append(v)\n",
    "plt.bar(lens, freqs, log=True)"
   ]
  },
  {
   "cell_type": "code",
   "execution_count": 10,
   "id": "faced806",
   "metadata": {},
   "outputs": [],
   "source": [
    "def decode_rle(bitstream):\n",
    "  pass"
   ]
  },
  {
   "cell_type": "code",
   "execution_count": 11,
   "id": "7ebced93",
   "metadata": {},
   "outputs": [],
   "source": [
    "SIZE_BITS = 32\n",
    "METADATA_BITS = 8\n",
    "\n",
    "def kmeans_compression(kmeans_data, output_filename):\n",
    "  reps, labels, delta_matrix = kmeans_data\n",
    "  n_clusters = len(reps)\n",
    "  bitstream = BitStream()\n",
    "\n",
    "  # Compress metadata values\n",
    "  bitstream.append(f'uint{SIZE_BITS}={delta_matrix.shape[0]}')\n",
    "  bitstream.append(f'uint{SIZE_BITS}={delta_matrix.shape[1]}')\n",
    "  bitstream.append(f'uint{METADATA_BITS}={n_clusters}')\n",
    "\n",
    "  bits_per_m_index = delta_matrix.shape[0].bit_length()\n",
    "  bits_per_n_index = delta_matrix.shape[1].bit_length()\n",
    "  bits_per_cluster_index = n_clusters.bit_length()\n",
    "\n",
    "  # Compress cluster membership information\n",
    "  for rep in reps:\n",
    "    bitstream.append(f'bin{bits_per_m_index}={bin(rep)[2:].zfill(bits_per_m_index)}')\n",
    "\n",
    "  for label in labels:\n",
    "    bitstream.append(f'bin{bits_per_cluster_index}={bin(label)[2:].zfill(bits_per_cluster_index)}')\n",
    "\n",
    "  # Huffman Encoding\n",
    "  freqs = {}\n",
    "  bits_per_huffman_val = 0\n",
    "  for i in range(delta_matrix.shape[0]):\n",
    "    for j in range(delta_matrix.shape[1]):\n",
    "      bits_per_huffman_val = max(bits_per_huffman_val, int(delta_matrix[i][j]).bit_length())\n",
    "      if delta_matrix[i][j] != 0:\n",
    "        if delta_matrix[i][j] not in freqs:\n",
    "          freqs[delta_matrix[i][j]] = 0\n",
    "        freqs[delta_matrix[i][j]] += 1\n",
    "  freqs = [(int(k), v) for k, v in freqs.items()]\n",
    "  huffman_tree = huffman.Tree(freqs)\n",
    "  huffman_codebook = huffman_tree.codebook\n",
    "  bitstream.append(f'uint{METADATA_BITS}={bits_per_huffman_val}')  \n",
    "  encode_huffman_tree(huffman_tree.root, bits_per_huffman_val, bitstream)\n",
    "\n",
    "  # Compress delta matrix\n",
    "  for i in range(delta_matrix.shape[0]):\n",
    "    row = delta_matrix[i]\n",
    "    num_nonzero = np.count_nonzero(row)\n",
    "    bitstream.append(f'bin{bits_per_n_index}={bin(num_nonzero)[2:].zfill(bits_per_n_index)}')\n",
    "    for j in range(delta_matrix.shape[1]):\n",
    "      if row[j] == 0:\n",
    "        continue\n",
    "      bitstream.append(f'bin{bits_per_n_index}={bin(j)[2:].zfill(bits_per_n_index)}')\n",
    "      bitstream.append(f'0b{huffman_codebook[row[j]]}')\n",
    "  \n",
    "  with open(output_filename, 'wb') as f:\n",
    "    f.write(bytes(bitstream))\n",
    "\n",
    "def kmeans_decompression(input_filename):\n",
    "  with open(input_filename, 'rb') as f:\n",
    "    bitstream = BitStream(f.read())\n",
    "\n",
    "  # Decompress metadata\n",
    "  m = bitstream.read(f'uint{SIZE_BITS}')\n",
    "  n = bitstream.read(f'uint{SIZE_BITS}')\n",
    "  n_clusters = bitstream.read(f'uint{METADATA_BITS}')\n",
    "\n",
    "  bits_per_m_index = m.bit_length()\n",
    "  bits_per_n_index = n.bit_length()\n",
    "  bits_per_cluster_index = n_clusters.bit_length()\n",
    "  \n",
    "  # Decompress cluster membership information\n",
    "  reps = []\n",
    "  for i in range(n_clusters):\n",
    "    reps.append(int(bitstream.read(f'bin{bits_per_m_index}'), 2))\n",
    "\n",
    "  labels = []\n",
    "  for i in range(m):\n",
    "    labels.append(int(bitstream.read(f'bin{bits_per_cluster_index}'), 2))\n",
    "\n",
    "  # Decompress Huffman tree\n",
    "  huffman_tree = decode_huffman_tree(bitstream, bitstream.read(f'uint{METADATA_BITS}'))\n",
    "\n",
    "  # Decompress delta matrix\n",
    "  matrix = np.zeros((m, n))\n",
    "  for i in range(m):\n",
    "    num_nonzero = int(bitstream.read(f'bin{bits_per_n_index}'), 2)\n",
    "    for j in range(num_nonzero):\n",
    "      index = int(bitstream.read(f'bin{bits_per_n_index}'), 2)\n",
    "      val = read_huffman_tree(huffman_tree, bitstream)\n",
    "      matrix[i][index] = val\n",
    "  \n",
    "  # Reconstruct original matrix\n",
    "  for i in range(m):\n",
    "    if reps[labels[i]] == i:\n",
    "      continue\n",
    "    matrix[i] += matrix[reps[labels[i]]]\n",
    "  return matrix"
   ]
  },
  {
   "cell_type": "code",
   "execution_count": null,
   "id": "a141b459",
   "metadata": {},
   "outputs": [],
   "source": [
    "k_vals = [1, 5, 10, 25, 50, 75, 100]\n",
    "for k in k_vals:\n",
    "  kmeans_compression(kmeans_structures(matrix, k), f'./results/{datasets[dataset_index]}/normal/{datasets[dataset_index]}_{k}.bin')\n",
    "  kmeans_compression(kmeans_structures(np.transpose(matrix), k), f'./results/{datasets[dataset_index]}/transpose/{datasets[dataset_index]}_transpose_{k}.bin')"
   ]
  },
  {
   "cell_type": "code",
   "execution_count": 12,
   "id": "be057fae",
   "metadata": {},
   "outputs": [],
   "source": [
    "def calc_wcss(matrix, k):\n",
    "  kmeans = KMeans(n_clusters=k, random_state=0).fit(matrix)\n",
    "  wcss = 0\n",
    "  for i in range(matrix.shape[0]):\n",
    "    wcss += np.linalg.norm(matrix[i] - kmeans.cluster_centers_[kmeans.labels_[i]]) ** 2\n",
    "  return wcss"
   ]
  },
  {
   "cell_type": "code",
   "execution_count": null,
   "id": "be5e6f59",
   "metadata": {},
   "outputs": [],
   "source": [
    "k = [i for i in range(1, 101, 5)]\n",
    "normal_wcss = [float(calc_wcss(matrix, i)) for i in k]\n",
    "transpose_wcss = [float(calc_wcss(np.transpose(matrix), i)) for i in k]"
   ]
  },
  {
   "cell_type": "code",
   "execution_count": 39,
   "id": "bc42e75f",
   "metadata": {},
   "outputs": [
    {
     "data": {
      "text/plain": [
       "<matplotlib.legend.Legend at 0x2289dbaf910>"
      ]
     },
     "execution_count": 39,
     "metadata": {},
     "output_type": "execute_result"
    },
    {
     "data": {
      "image/png": "[encoded data removed]",
      "text/plain": [
       "<Figure size 640x480 with 1 Axes>"
      ]
     },
     "metadata": {},
     "output_type": "display_data"
    }
   ],
   "source": [
    "plt.plot(k, normal_wcss, label='normal')\n",
    "plt.plot(k, transpose_wcss, label='transpose')\n",
    "plt.legend()"
   ]
  }
 ],
 "metadata": {
  "kernelspec": {
   "display_name": "sklearn-env",
   "language": "python",
   "name": "python3"
  },
  "language_info": {
   "codemirror_mode": {
    "name": "ipython",
    "version": 3
   },
   "file_extension": ".py",
   "mimetype": "text/x-python",
   "name": "python",
   "nbconvert_exporter": "python",
   "pygments_lexer": "ipython3",
   "version": "3.11.0"
  }
 },
 "nbformat": 4,
 "nbformat_minor": 5
}
